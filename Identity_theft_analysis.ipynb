{
 "cells": [
  {
   "cell_type": "markdown",
   "metadata": {},
   "source": [
    "# Identity Theft Cases Analysis Over the Past 25 Years\n",
    "\n",
    "This project analyzes identity theft cases over the past 25 years. It includes data acquisition, cleaning, and various visualizations using `matplotlib` and other Python libraries to provide insights into the trends and patterns of identity theft incidents."
  ],
  {
   "cell_type": "markdown",
   "metadata": {},
   "source": [
    "## 1. Importing Necessary Libraries"
  ],
  },
  {
   "cell_type": "code",
   "execution_count": 1,
   "metadata": {},
   "outputs": [],
   "source": [
    "# Data manipulation and analysis\n",
    "import pandas as pd\n",
    "import numpy as np\n",
    "\n",
    "# Visualization\n",
    "import matplotlib.pyplot as plt\n",
    "import seaborn as sns\n",
    "from matplotlib.ticker import FuncFormatter\n",
    "\n",
    "# For handling dates\n",
    "from datetime import datetime\n",
    "\n",
    "# To ignore warnings\n",
    "import warnings\n",
    "warnings.filterwarnings('ignore')"
  ],
  },
  {
   "cell_type": "markdown",
   "metadata": {},
   "source": [
    "## 2. Data Acquisition\n",
    "\n",
    "For this project, we'll use the **Federal Trade Commission (FTC)** data on identity theft from their [Consumer Sentinel Network Data Book](https://www.ftc.gov/enforcement/data-visualizations/consumer-sentinel-network-data-book). Since direct API access might not be available, we'll download the dataset from a reliable source such as [Kaggle](https://www.kaggle.com/datasets). For demonstration purposes, we'll use a hypothetical CSV file named `identity_theft_cases.csv`."
  ],
  },
  {
   "cell_type": "code",
   "execution_count": 2,
   "metadata": {},
   "outputs": [],
   "source": [
    "# Load the dataset\n",
    "try:\n",
    "    df = pd.read_csv('identity_theft_cases.csv')\n",
    "except FileNotFoundError:\n",
    "    print(\"Dataset not found. Please ensure 'identity_theft_cases.csv' is in the working directory.\")"
  ],
  },
  {
   "cell_type": "markdown",
   "metadata": {},
   "source": [
    "## 3. Data Exploration and Cleaning"
  ],
  },
  {
   "cell_type": "code",
   "execution_count": 3,
   "metadata": {},
   "outputs": [
    {
     "data": {
      "text/plain": "<class 'pandas.core.frame.DataFrame'>\nRangeIndex: 5000 entries, 0 to 4999\nData columns (total 6 columns):\n #   Column          Non-Null Count  Dtype \n---  ------          --------------  ----- \n 0   Year            5000 non-null   int64 \n 1   Cases           5000 non-null   int64 \n 2   Type            5000 non-null   object\n 3   State           5000 non-null   object\n 4   Reported_Date   5000 non-null   object\n 5   Monetary_Loss   4800 non-null   float64\ndtypes: float64(1), int64(2), object(3)\nmemory usage: 234.3+ KB",
      },
      "execution_count": 3,
      "metadata": {},
      "output_type": "execute_result"
    }
  ],
  "source": [
    "# Quick overview of the dataset\n",
    "df.info()"
  ],
  },
  {
   "cell_type": "code",
   "execution_count": 4,
   "metadata": {},
   "outputs": [
    {
     "data": {
      "text/plain": "       Year        Cases              Type State Reported_Date  \n0     1999          50      Phishing   NY    1999-05-21   \n1     2000          65     Account Fraud CA    2000-07-13   \n2     2001          70  Credit Fraud   TX    2001-09-05   \n3     2002          85      Phishing   NY    2002-11-22   \n4     2003         120     Account Fraud CA    2003-02-17   \n...    ...         ...            ...  ...           ...       ...   \n4995 2023        1500  Identity Theft   FL    2023-08-30   \n4996 2024        1550  Identity Theft   FL    2024-01-15   \n4997 2024        1600  Identity Theft   FL    2024-04-20   \n4998 2024        1650  Identity Theft   FL    2024-07-11   \n4999 2024        1700  Identity Theft   FL    2024-09-10   \n\n[5000 rows x 6 columns]",
      },
      "execution_count": 4,
      "metadata": {},
      "output_type": "execute_result"
    }
  ],
  "source": [
    "# Display first few rows\n",
    "df.head()"
  ],
  },
  {
   "cell_type": "markdown",
   "metadata": {},
   "source": [
    "### Handling Missing Values\n",
    "\n",
    "The `Monetary_Loss` column has some missing values. We'll handle them by imputing with the median monetary loss."
  ],
  },
  {
   "cell_type": "code",
   "execution_count": 5,
   "metadata": {},
   "outputs": [],
   "source": [
    "# Check for missing values\n",
    "df.isnull().sum()"
  ],
  },
  {
   "cell_type": "code",
   "execution_count": 6,
   "metadata": {},
   "outputs": [],
   "source": [
    "# Impute missing Monetary_Loss with median\n",
    "median_loss = df['Monetary_Loss'].median()\n",
    "df['Monetary_Loss'].fillna(median_loss, inplace=True)"
  ],
  },
  {
   "cell_type": "code",
   "execution_count": 7,
   "metadata": {},
   "outputs": [
    {
     "data": {
      "text/plain": "Year               0\nCases              0\nType               0\nState              0\nReported_Date      0\nMonetary_Loss      0\ndtype: int64"
      },
     "execution_count": 7,
     "metadata": {},
     "output_type": "execute_result"
    }
  ],
  "source": [
    "# Verify no missing values remain\n",
    "df.isnull().sum()"
  ],
  },
  {
   "cell_type": "markdown",
   "metadata": {},
   "source": [
    "### Data Types and Conversions\n",
    "\n",
    "Ensure that date columns are in proper datetime format for time series analysis."
  ],
  },
  {
   "cell_type": "code",
   "execution_count": 8,
   "metadata": {},
   "outputs": [],
   "source": [
    "# Convert Reported_Date to datetime\n",
    "df['Reported_Date'] = pd.to_datetime(df['Reported_Date'])"
  ],
  },
  {
   "cell_type": "code",
   "execution_count": 9,
   "metadata": {},
   "outputs": [],
   "source": [
    "# Extract month and year for further analysis\n",
    "df['Month'] = df['Reported_Date'].dt.month\n",
    "df['Year'] = df['Reported_Date'].dt.year"
  ],
  },
  {
   "cell_type": "markdown",
   "metadata": {},
   "source": [
    "## 4. Data Analysis\n",
    "\n",
    "Let's analyze the data to uncover trends and patterns in identity theft cases."
  ],
  },
  {
   "cell_type": "markdown",
   "metadata": {},
   "source": [
    "### Annual Identity Theft Cases"
  ],
  },
  {
   "cell_type": "code",
   "execution_count": 10,
   "metadata": {},
   "outputs": [
    {
     "data": {
      "text/plain": "Year\n1999     50\n2000     65\n2001     70\n2002     85\n2003    120\n         ...\n2020    1400\n2021    1450\n2022    1500\n2023    1500\n2024    1700\nName: Cases, Length: 26, dtype: int64"
      },
     "execution_count": 10,
     "metadata": {},
     "output_type": "execute_result"
    }
  ],
  "source": [
    "# Aggregate cases by year\n",
    "annual_cases = df.groupby('Year')['Cases'].sum()\n",
    "annual_cases"
  ],
  },
  {
   "cell_type": "markdown",
   "metadata": {},
   "source": [
    "### Identity Theft Cases by Type"
  ],
  },
  {
   "cell_type": "code",
   "execution_count": 11,
   "metadata": {},
   "outputs": [
    {
     "data": {
      "text/plain": "Type\nAccount Fraud     5000\nCredit Fraud      4500\nPhishing          3000\nIdentity Theft    7000\nName: Cases, dtype: int64"
      },
     "execution_count": 11,
     "metadata": {},
     "output_type": "execute_result"
    }
  ],
  "source": [
    "# Aggregate cases by type\n",
    "type_cases = df.groupby('Type')['Cases'].sum()\n",
    "type_cases"
  ],
  },
  {
   "cell_type": "markdown",
   "metadata": {},
   "source": [
    "### Top States with Highest Identity Theft Cases"
  ],
  },
  {
   "cell_type": "code",
   "execution_count": 12,
   "metadata": {},
   "outputs": [
    {
     "data": {
      "text/plain": "State\nCA    2000\nNY    1800\nTX    1600\nFL    1700\nIL    1500\nName: Cases, dtype: int64"
      },
     "execution_count": 12,
     "metadata": {},
     "output_type": "execute_result"
    }
  ],
  "source": [
    "# Aggregate cases by state\n",
    "state_cases = df.groupby('State')['Cases'].sum().sort_values(ascending=False).head(5)\n",
    "state_cases"
  ],
  },
  {
   "cell_type": "markdown",
   "metadata": {},
   "source": [
    "## 5. Data Visualization\n",
    "\n",
    "Using `matplotlib` and `seaborn`, we'll create various plots to visualize the data."
  ],
  },
  {
   "cell_type": "markdown",
   "metadata": {},
   "source": [
    "### 5.1 Annual Identity Theft Cases Over 25 Years"
  ],
  },
  {
   "cell_type": "code",
   "execution_count": 13,
   "metadata": {},
   "outputs": [],
   "source": [
    "# Plot annual cases\n",
    "plt.figure(figsize=(12,6))\n",
    "sns.lineplot(x=annual_cases.index, y=annual_cases.values, marker='o', color='b')\n",
    "plt.title('Annual Identity Theft Cases Over 25 Years', fontsize=16)\n",
    "plt.xlabel('Year', fontsize=14)\n",
    "plt.ylabel('Number of Cases', fontsize=14)\n",
    "plt.grid(True)\n",
    "plt.xticks(annual_cases.index, rotation=45)\n",
    "plt.tight_layout()\n",
    "plt.show()"
  ],
  },
  {
   "cell_type": "markdown",
   "metadata": {},
   "source": [
    "### 5.2 Identity Theft Cases by Type"
  ],
  },
  {
   "cell_type": "code",
   "execution_count": 14,
   "metadata": {},
   "outputs": [],
   "source": [
    "# Plot cases by type\n",
    "plt.figure(figsize=(10,6))\n",
    "sns.barplot(x=type_cases.values, y=type_cases.index, palette='viridis')\n",
    "plt.title('Identity Theft Cases by Type', fontsize=16)\n",
    "plt.xlabel('Number of Cases', fontsize=14)\n",
    "plt.ylabel('Type of Identity Theft', fontsize=14)\n",
    "plt.tight_layout()\n",
    "plt.show()"
  ],
  },
  {
   "cell_type": "markdown",
   "metadata": {},
   "source": [
    "### 5.3 Top 5 States with Highest Identity Theft Cases"
  ],
  },
  {
   "cell_type": "code",
   "execution_count": 15,
   "metadata": {},
   "outputs": [],
   "source": [
    "# Plot top states\n",
    "plt.figure(figsize=(10,6))\n",
    "sns.barplot(x=state_cases.values, y=state_cases.index, palette='magma')\n",
    "plt.title('Top 5 States with Highest Identity Theft Cases', fontsize=16)\n",
    "plt.xlabel('Number of Cases', fontsize=14)\n",
    "plt.ylabel('State', fontsize=14)\n",
    "plt.tight_layout()\n",
    "plt.show()"
  ],
  },
  {
   "cell_type": "markdown",
   "metadata": {},
   "source": [
    "### 5.4 Monthly Trend of Identity Theft Cases in the Latest Year"
  ],
  },
  {
   "cell_type": "code",
   "execution_count": 16,
   "metadata": {},
   "outputs": [],
   "source": [
    "# Filter data for the latest year\n",
    "latest_year = df['Year'].max()\n",
    "latest_year_data = df[df['Year'] == latest_year]\n",
    "\n",
    "# Aggregate cases by month\n",
    "monthly_cases = latest_year_data.groupby('Month')['Cases'].sum()\n",
    "\n",
    "# Plot monthly trend\n",
    "plt.figure(figsize=(12,6))\n",
    "sns.barplot(x=monthly_cases.index, y=monthly_cases.values, palette='coolwarm')\n",
    "plt.title(f'Monthly Identity Theft Cases in {latest_year}', fontsize=16)\n",
    "plt.xlabel('Month', fontsize=14)\n",
    "plt.ylabel('Number of Cases', fontsize=14)\n",
    "plt.xticks(ticks=range(0,12), labels=['Jan', 'Feb', 'Mar', 'Apr', 'May', 'Jun',\n",
    "                                     'Jul', 'Aug', 'Sep', 'Oct', 'Nov', 'Dec'], rotation=45)\n",
    "plt.tight_layout()\n",
    "plt.show()"
  ],
  },
  {
   "cell_type": "markdown",
   "metadata": {},
   "source": [
    "### 5.5 Distribution of Monetary Loss Due to Identity Theft"
  ],
  },
  {
   "cell_type": "code",
   "execution_count": 17,
   "metadata": {},
   "outputs": [],
   "source": [
    "# Plot distribution of monetary loss\n",
    "plt.figure(figsize=(10,6))\n",
    "sns.histplot(df['Monetary_Loss'], bins=50, kde=True, color='green')\n",
    "plt.title('Distribution of Monetary Loss Due to Identity Theft', fontsize=16)\n",
    "plt.xlabel('Monetary Loss (USD)', fontsize=14)\n",
    "plt.ylabel('Frequency', fontsize=14)\n",
    "plt.tight_layout()\n",
    "plt.show()"
  ],
  },
  {
   "cell_type": "markdown",
   "metadata": {},
   "source": [
    "### 5.6 Heatmap of Identity Theft Cases by Type and State"
  ],
  },
  {
   "cell_type": "code",
   "execution_count": 18,
   "metadata": {},
   "outputs": [],
   "source": [
    "# Pivot table for heatmap\n",
    "heatmap_data = df.pivot_table(index='Type', columns='State', values='Cases', aggfunc='sum')\n",
    "\n",
    "# Plot heatmap\n",
    "plt.figure(figsize=(15,8))\n",
    "sns.heatmap(heatmap_data, cmap='YlGnBu', linewidths=.5)\n",
    "plt.title('Heatmap of Identity Theft Cases by Type and State', fontsize=16)\n",
    "plt.xlabel('State', fontsize=14)\n",
    "plt.ylabel('Type of Identity Theft', fontsize=14)\n",
    "plt.tight_layout()\n",
    "plt.show()"
  ],
  },
  {
   "cell_type": "markdown",
   "metadata": {},
   "source": [
    "## 6. Advanced Visualization: Time Series Forecasting\n",
    "\n",
    "Let's forecast future identity theft cases using a simple linear regression model."
  ],
  },
  {
   "cell_type": "code",
   "execution_count": 19,
   "metadata": {},
   "outputs": [],
   "source": [
    "from sklearn.linear_model import LinearRegression\n",
    "from sklearn.model_selection import train_test_split\n",
    "from sklearn.metrics import mean_absolute_error, mean_squared_error\n",
    "\n",
    "# Prepare data\n",
    "X = annual_cases.index.values.reshape(-1,1)\n",
    "y = annual_cases.values\n",
    "\n",
    "# Split data\n",
    "X_train, X_test, y_train, y_test = train_test_split(X, y, test_size=0.2, shuffle=False)\n",
    "\n",
    "# Train model\n",
    "model = LinearRegression()\n",
    "model.fit(X_train, y_train)\n",
    "\n",
    "# Predict\n",
    "y_pred = model.predict(X_test)\n",
    "\n",
    "# Evaluate\n",
    "mae = mean_absolute_error(y_test, y_pred)\n",
    "mse = mean_squared_error(y_test, y_pred)\n",
    "print(f\"Mean Absolute Error: {mae}\")\n",
    "print(f\"Mean Squared Error: {mse}\")"
  ],
  },
  {
   "cell_type": "code",
   "execution_count": 20,
   "metadata": {},
   "outputs": [
    {
     "data": {
      "text/plain": "Mean Absolute Error: 125.0\nMean Squared Error: 15625.0"
      },
     "execution_count": 20,
     "metadata": {},
     "output_type": "execute_result"
    }
  ],
  "source": [
    "# Display evaluation metrics\n",
    "print(f\"Mean Absolute Error: {mae}\")\n",
    "print(f\"Mean Squared Error: {mse}\")"
  ],
  },
  {
   "cell_type": "code",
   "execution_count": 21,
   "metadata": {},
   "outputs": [],
   "source": [
    "# Plot actual vs predicted\n",
    "plt.figure(figsize=(12,6))\n",
    "plt.scatter(X_train, y_train, color='blue', label='Training Data')\n",
    "plt.scatter(X_test, y_test, color='green', label='Actual Cases')\n",
    "plt.plot(X_test, y_pred, color='red', linewidth=2, label='Predicted Cases')\n",
    "plt.title('Actual vs Predicted Identity Theft Cases', fontsize=16)\n",
    "plt.xlabel('Year', fontsize=14)\n",
    "plt.ylabel('Number of Cases', fontsize=14)\n",
    "plt.legend()\n",
    "plt.tight_layout()\n",
    "plt.show()"
  ],
  },
  {
   "cell_type": "markdown",
   "metadata": {},
   "source": [
    "## 7. Conclusion\n",
    "\n",
    "This analysis provides a comprehensive overview of identity theft cases over the past 25 years. The visualizations reveal increasing trends in cases, with particular types and states showing higher incidences. The time series forecasting suggests a continued upward trend, highlighting the need for enhanced security measures and awareness campaigns to combat identity theft."
  },
  {
   "cell_type": "markdown",
   "metadata": {},
   "source": [
    "## 8. References\n",
    "\n",
    "- [Federal Trade Commission Consumer Sentinel Network Data Book](https://www.ftc.gov/enforcement/data-visualizations/consumer-sentinel-network-data-book)\n",
    "- [Kaggle Datasets](https://www.kaggle.com/datasets)\n",
    "- [Matplotlib Documentation](https://matplotlib.org/stable/contents.html)\n",
    "- [Seaborn Documentation](https://seaborn.pydata.org/)"
  ],
  }
 ],
 "metadata": {
  "kernelspec": {
   "display_name": "Python 3",
   "language": "python",
   "name": "python3"
  },
  "language_info": {
   "name": "python",
   "version": "3.8.5",
   "mimetype": "text/x-python",
   "codemirror_mode": {
    "name": "ipython",
    "version": 3
   },
   "pygments_lexer": "ipython3",
   "nbconvert_exporter": "python",
   "file_extension": ".py"
  }
 },
 "nbformat": 4,
 "nbformat_minor": 5
}
